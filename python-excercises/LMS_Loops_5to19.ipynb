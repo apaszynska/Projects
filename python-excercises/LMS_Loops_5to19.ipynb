{
 "cells": [
  {
   "cell_type": "markdown",
   "metadata": {},
   "source": [
    "# LMS\n",
    "### Exercise 6\n",
    "\n",
    "Create a list with all the names of your class (including mentors). Sort the list alphabetically, then print the first element of the list.\n",
    "On the next line, print the last element of the list.\n",
    "On the next line, print all the elements of the list (use a \"for\" loop).\n"
   ]
  },
  {
   "cell_type": "code",
   "execution_count": 6,
   "metadata": {},
   "outputs": [
    {
     "name": "stdout",
     "output_type": "stream",
     "text": [
      "Emily\n",
      "Tiba\n",
      "Emily\n",
      "Gokce\n",
      "Julien\n",
      "Katha\n",
      "Marc\n",
      "Ola\n",
      "Tiba\n"
     ]
    }
   ],
   "source": [
    "\n",
    "names = [\"Ola\",\"Katha\", \"Gokce\", \"Tiba\",\"Julien\",\"Marc\",\"Emily\"]\n",
    "names.sort()\n",
    "\n",
    "print(names[0])\n",
    "print(names[-1])\n",
    "\n",
    "for name in names:\n",
    "    print(name)"
   ]
  },
  {
   "cell_type": "markdown",
   "metadata": {},
   "source": [
    "### Exercise 7\n",
    "\n",
    "Create a list with all the ages of the students in your class. Iterate through the list using a for loop, and then print every age. Add a conditional inside the loop to only print even ages (Hint: have a look for Python's modulus operator).\n",
    "Try to do the same thing using a while loop."
   ]
  },
  {
   "cell_type": "code",
   "execution_count": 8,
   "metadata": {},
   "outputs": [
    {
     "name": "stdout",
     "output_type": "stream",
     "text": [
      "[20, 32, 40, 43, 30, 39, 50]\n",
      "20\n",
      "32\n",
      "40\n",
      "30\n",
      "50\n"
     ]
    }
   ],
   "source": [
    "ages = [20, 32, 40, 43, 30, 39, 50]\n",
    "print(ages)\n",
    "for age in ages:\n",
    "    if age % 2 == 0:\n",
    "        print(age)\n",
    "    else:       # - \"else\" not needed\n",
    "        pass"
   ]
  },
  {
   "cell_type": "code",
   "execution_count": 9,
   "metadata": {},
   "outputs": [
    {
     "name": "stdout",
     "output_type": "stream",
     "text": [
      "20\n",
      "32\n",
      "40\n",
      "30\n",
      "50\n"
     ]
    }
   ],
   "source": [
    "age = 0\n",
    "while age < len(ages):\n",
    "    if ages[age] %2 == 0:\n",
    "        print(ages[age])\n",
    "    age = age + 1\n",
    "    "
   ]
  },
  {
   "cell_type": "markdown",
   "metadata": {},
   "source": [
    "### Ex 8\n",
    "Write a list containing numbers and print the lowest number."
   ]
  },
  {
   "cell_type": "code",
   "execution_count": 10,
   "metadata": {},
   "outputs": [
    {
     "name": "stdout",
     "output_type": "stream",
     "text": [
      "20\n"
     ]
    }
   ],
   "source": [
    "lowest = min(ages)\n",
    "print(lowest)\n",
    "\n",
    "\n",
    "#for age in ages:\n",
    "#   if age < lowest:\n",
    "#       lowest = age"
   ]
  },
  {
   "cell_type": "markdown",
   "metadata": {},
   "source": [
    "### Ex 9\n",
    "Write a list containing numbers and print the highest number."
   ]
  },
  {
   "cell_type": "code",
   "execution_count": null,
   "metadata": {},
   "outputs": [],
   "source": [
    "highest = max(ages)\n",
    "print(highest)"
   ]
  },
  {
   "cell_type": "markdown",
   "metadata": {},
   "source": [
    "### Ex 10 \n",
    "Given below is a list of 10 customers with year of birth, however, the list can be as large as several thousands of customers.\n",
    "\n",
    "[1999, 1995, 2005, 2010, 2007, 2006, 1994, 1996, 1979, 2008]\n",
    "Use a loop to iterate over the list and print the age of each customer.\n",
    "\n",
    "We have a datetime method in python"
   ]
  },
  {
   "cell_type": "code",
   "execution_count": 20,
   "metadata": {},
   "outputs": [
    {
     "name": "stdout",
     "output_type": "stream",
     "text": [
      "2025\n",
      "26\n",
      "30\n",
      "20\n",
      "15\n",
      "18\n",
      "19\n",
      "31\n",
      "29\n",
      "46\n",
      "17\n"
     ]
    }
   ],
   "source": [
    "from datetime import datetime as dt\n",
    "\n",
    "current_year = dt.now().year\n",
    "print(current_year)\n",
    "\n",
    "years = [1999, 1995, 2005, 2010, 2007, 2006, 1994, 1996, 1979, 2008]\n",
    "for year in years:\n",
    "    age = current_year - year\n",
    "    print(age)"
   ]
  },
  {
   "cell_type": "markdown",
   "metadata": {},
   "source": [
    "### Ex 10\n",
    "Use a loop to iterate over the list and print the name and age of each customer.\n",
    "Afterwards, for each customer try to print the sentence \"customer_name is customer_age years old\".\n",
    "customer_name and customer_age should correspond to each customer's name and age."
   ]
  },
  {
   "cell_type": "code",
   "execution_count": 21,
   "metadata": {},
   "outputs": [
    {
     "name": "stdout",
     "output_type": "stream",
     "text": [
      "Bob is 26 years old\n",
      "Jack is 30 years old\n",
      "Lisa is 20 years old\n",
      "Maria is 15 years old\n",
      "Ben is 18 years old\n",
      "Emma is 19 years old\n",
      "Oscar is 31 years old\n",
      "Amy is 29 years old\n",
      "Paul is 46 years old\n",
      "Etta is 17 years old\n"
     ]
    }
   ],
   "source": [
    "customer_list = [\n",
    "                    {\"name\": \"Bob\", \"age\": 1999},\n",
    "                    {\"name\": \"Jack\", \"age\": 1995},\n",
    "                    {\"name\": \"Lisa\", \"age\": 2005},\n",
    "                    {\"name\": \"Maria\", \"age\": 2010},\n",
    "                    {\"name\": \"Ben\", \"age\": 2007},\n",
    "                    {\"name\": \"Emma\", \"age\": 2006},\n",
    "                    {\"name\": \"Oscar\", \"age\": 1994},\n",
    "                    {\"name\": \"Amy\", \"age\": 1996},\n",
    "                    {\"name\": \"Paul\", \"age\": 1979},\n",
    "                    {\"name\": \"Etta\", \"age\": 2008}\n",
    "                ]\n",
    "\n",
    "for customer in customer_list:\n",
    "   age = current_year - customer[\"age\"]\n",
    "   print(f\"{customer[\"name\"]} is {age} years old\") \n",
    "    \n"
   ]
  },
  {
   "cell_type": "markdown",
   "metadata": {},
   "source": [
    "### Ex 12\n",
    "Given a list of ages, remove the youngest and the oldest person."
   ]
  },
  {
   "cell_type": "code",
   "execution_count": 23,
   "metadata": {},
   "outputs": [
    {
     "name": "stdout",
     "output_type": "stream",
     "text": [
      "[20, 24, 14, 12, 13, 25, 23, 11]\n",
      "9\n",
      "40\n"
     ]
    }
   ],
   "source": [
    "ages = [20, 24, 14, 9, 12, 13, 25, 23, 40, 11]\n",
    "\n",
    "oldest = ages[0]\n",
    "youngest = ages[0]\n",
    "for age in ages:\n",
    "    if age < youngest:\n",
    "        youngest = age\n",
    "    if age > oldest:\n",
    "        oldest = age\n",
    "\n",
    "ages.remove(oldest)\n",
    "ages.remove(youngest)\n",
    "print(ages)\n",
    "print(youngest)\n",
    "print(oldest)\n",
    "\n",
    "# or just ages.pop(-1) ages.pop(0)\n"
   ]
  },
  {
   "cell_type": "markdown",
   "metadata": {},
   "source": [
    "### Ex 13\n",
    "The task is to create a new list with the common ages."
   ]
  },
  {
   "cell_type": "code",
   "execution_count": 13,
   "metadata": {},
   "outputs": [
    {
     "name": "stdout",
     "output_type": "stream",
     "text": [
      "[10, 13, 15, 16, 18, 19]\n"
     ]
    }
   ],
   "source": [
    "berlin = [15, 13, 16, 18, 19, 10, 12]\n",
    "munich = [7, 13, 15, 20, 19, 18, 10, 16]\n",
    "new = berlin + munich\n",
    "noduplicates  = []\n",
    "duplicates = []\n",
    "for age in new:\n",
    "    if age not in noduplicates:\n",
    "        noduplicates.append(age)\n",
    "    else:\n",
    "        duplicates.append(age)\n",
    "duplicates.sort()\n",
    "print(duplicates)\n",
    "\n",
    "# commons = [num for num in berlin if num in munich] --> easier and faster\n",
    "\n",
    "# set intersection python\n",
    "\n",
    "\n"
   ]
  },
  {
   "cell_type": "markdown",
   "metadata": {},
   "source": [
    "set() --> no duplicates"
   ]
  },
  {
   "cell_type": "code",
   "execution_count": 14,
   "metadata": {},
   "outputs": [
    {
     "name": "stdout",
     "output_type": "stream",
     "text": [
      "[10, 13, 15, 16, 18, 19]\n"
     ]
    }
   ],
   "source": [
    "berlin = [15, 13, 16, 18, 19, 10, 12 ]\n",
    "munich = [7, 13, 15, 20, 19, 18, 10, 16]\n",
    "dups=[]\n",
    "for age in berlin:\n",
    "    if age in munich:\n",
    "        dups.append(age)\n",
    "        dups.sort()\n",
    "print(dups)\n",
    "\n"
   ]
  },
  {
   "cell_type": "code",
   "execution_count": 16,
   "metadata": {},
   "outputs": [
    {
     "name": "stdout",
     "output_type": "stream",
     "text": [
      "{10, 13, 15, 16, 18, 19}\n"
     ]
    }
   ],
   "source": [
    "ages = [15, 13, 16, 18, 19, 15, 15, 10]\n",
    "new = set(ages)\n",
    "print(new)"
   ]
  },
  {
   "cell_type": "markdown",
   "metadata": {},
   "source": [
    "### Ex 15\n",
    "welcome('Evelyn') would print- 'Welcome Evelyn, have a nice day!'"
   ]
  },
  {
   "cell_type": "code",
   "execution_count": 17,
   "metadata": {},
   "outputs": [
    {
     "name": "stdout",
     "output_type": "stream",
     "text": [
      "Welcome  Evelyn  have a nice day!\n"
     ]
    }
   ],
   "source": [
    "def welcome(name):\n",
    "    print(\"Welcome \",name, \" have a nice day!\")\n",
    "welcome(\"Evelyn\")"
   ]
  },
  {
   "cell_type": "markdown",
   "metadata": {},
   "source": [
    "### Ex 16\n",
    "\n",
    "Write a function that takes a string as input and calculates the length.\n",
    "Function name: get_length\n"
   ]
  },
  {
   "cell_type": "code",
   "execution_count": 1,
   "metadata": {},
   "outputs": [
    {
     "name": "stdout",
     "output_type": "stream",
     "text": [
      "2\n"
     ]
    }
   ],
   "source": [
    "def get_length(word):\n",
    "    print(len(word))\n",
    "    return \n",
    "get_length(\"Hi\")"
   ]
  },
  {
   "cell_type": "markdown",
   "metadata": {},
   "source": [
    "\n",
    "### Ex 17\n",
    "\n",
    "Write a function which checks whether a number is even.\n",
    "Function name: check_even"
   ]
  },
  {
   "cell_type": "code",
   "execution_count": 25,
   "metadata": {},
   "outputs": [
    {
     "data": {
      "text/plain": [
       "'Yes'"
      ]
     },
     "execution_count": 25,
     "metadata": {},
     "output_type": "execute_result"
    }
   ],
   "source": [
    "def check_even(number):\n",
    "    if number%2 == 0:\n",
    "        return \"Yes\"\n",
    "    else:\n",
    "        return \"No\"\n",
    "check_even(4)"
   ]
  },
  {
   "cell_type": "markdown",
   "metadata": {},
   "source": [
    "### 11 as a function"
   ]
  },
  {
   "cell_type": "code",
   "execution_count": null,
   "metadata": {},
   "outputs": [],
   "source": [
    "def customerage(customer_list):\n",
    "    customer_list = [\n",
    "                    {\"name\": \"Bob\", \"age\": 1999},\n",
    "                    {\"name\": \"Jack\", \"age\": 1995},\n",
    "                    {\"name\": \"Lisa\", \"age\": 2005},\n",
    "                    {\"name\": \"Maria\", \"age\": 2010},\n",
    "                    {\"name\": \"Ben\", \"age\": 2007},\n",
    "                    {\"name\": \"Emma\", \"age\": 2006},\n",
    "                    {\"name\": \"Oscar\", \"age\": 1994},\n",
    "                    {\"name\": \"Amy\", \"age\": 1996},\n",
    "                    {\"name\": \"Paul\", \"age\": 1979},\n",
    "                    {\"name\": \"Etta\", \"age\": 2008}\n",
    "                ]\n",
    "    for customer in customer_list:\n",
    "        for age in customer:\n",
    "            age = 2025-customer[\"age\"]\n",
    "        print(customer[\"name\"], age)\n",
    "        \n",
    "customerage(customer_list)"
   ]
  },
  {
   "cell_type": "markdown",
   "metadata": {},
   "source": [
    "### 12 as a function"
   ]
  },
  {
   "cell_type": "code",
   "execution_count": 136,
   "metadata": {},
   "outputs": [
    {
     "name": "stdout",
     "output_type": "stream",
     "text": [
      "[20, 24, 14, 12, 13, 25, 23, 11]\n"
     ]
    }
   ],
   "source": [
    "def nowa(ages):\n",
    "    ages = [20, 24, 14, 9, 12, 13, 25, 23, 40, 11]\n",
    "    youngest = ages[0]\n",
    "    oldest = ages[0]\n",
    "    for age in ages:\n",
    "        if age < youngest:\n",
    "            youngest = age\n",
    "        elif age > oldest:\n",
    "            oldest = age\n",
    "    ages.remove(youngest)\n",
    "    ages.remove(oldest)\n",
    "    print(ages)\n",
    "nowa(ages)\n",
    "    \n",
    "\n",
    "\n",
    "\n",
    "\n",
    "\n"
   ]
  },
  {
   "cell_type": "markdown",
   "metadata": {},
   "source": [
    "### 13 as a function"
   ]
  },
  {
   "cell_type": "code",
   "execution_count": 16,
   "metadata": {},
   "outputs": [
    {
     "data": {
      "text/plain": [
       "[15, 13, 16, 18, 19, 10]"
      ]
     },
     "execution_count": 16,
     "metadata": {},
     "output_type": "execute_result"
    }
   ],
   "source": [
    "def difcit():\n",
    "    \n",
    "    berlin = [15, 13, 16, 18, 19, 10, 12 ]\n",
    "    munich = [7, 13, 15, 20, 19, 18, 10, 16]\n",
    "    new =[]\n",
    "    for age in berlin:\n",
    "        if age in munich:\n",
    "            new.append(age)\n",
    "    return new\n",
    "\n",
    "difcit()"
   ]
  },
  {
   "cell_type": "markdown",
   "metadata": {},
   "source": [
    "### 14 as a function"
   ]
  },
  {
   "cell_type": "code",
   "execution_count": 29,
   "metadata": {},
   "outputs": [
    {
     "name": "stdout",
     "output_type": "stream",
     "text": [
      "{10, 13, 15, 16, 18, 19}\n"
     ]
    }
   ],
   "source": [
    "def nodup():\n",
    "    ages = [15, 13, 16, 18, 19, 15, 10]\n",
    "    noduplicates = set(ages)\n",
    "    return noduplicates\n",
    "\n",
    "noduplicates = nodup()\n",
    "print(noduplicates)\n",
    "\n",
    "    "
   ]
  },
  {
   "cell_type": "markdown",
   "metadata": {},
   "source": [
    "### Exercise 19\n",
    "\n",
    "Write a function that takes a list of integers and also a single integer as inputs. It should return true or false if the single integer value is present or not in the list."
   ]
  },
  {
   "cell_type": "code",
   "execution_count": 18,
   "metadata": {},
   "outputs": [
    {
     "name": "stdout",
     "output_type": "stream",
     "text": [
      "Given list: [1, 2, 3, 6]\n",
      "Given number: 9\n"
     ]
    },
    {
     "data": {
      "text/plain": [
       "False"
      ]
     },
     "execution_count": 18,
     "metadata": {},
     "output_type": "execute_result"
    }
   ],
   "source": [
    "def presentornot():\n",
    "    givemelist = input(\"Give a list of numbers: \").split()\n",
    "    givemenumber = input(\"Give a single number: \")\n",
    "    newlist=[]\n",
    "    \n",
    "    for number in givemelist:\n",
    "        newlist.append(int(number))\n",
    "    print(f\"Given list: {newlist}\")\n",
    "    print(f\"Given number: {givemenumber}\")\n",
    "\n",
    "    givenumber = int(givemenumber)\n",
    "    if givenumber in newlist:\n",
    "        return True\n",
    "    else:\n",
    "        return False\n",
    "\n",
    "presentornot()\n",
    "\n",
    "## return 11 in list\n",
    "    \n",
    "    "
   ]
  }
 ],
 "metadata": {
  "kernelspec": {
   "display_name": "base",
   "language": "python",
   "name": "python3"
  },
  "language_info": {
   "codemirror_mode": {
    "name": "ipython",
    "version": 3
   },
   "file_extension": ".py",
   "mimetype": "text/x-python",
   "name": "python",
   "nbconvert_exporter": "python",
   "pygments_lexer": "ipython3",
   "version": "3.12.7"
  }
 },
 "nbformat": 4,
 "nbformat_minor": 2
}
