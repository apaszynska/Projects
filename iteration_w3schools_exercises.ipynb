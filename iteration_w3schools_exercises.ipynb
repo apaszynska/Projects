{
 "cells": [
  {
   "cell_type": "code",
   "execution_count": 66,
   "metadata": {},
   "outputs": [
    {
     "name": "stdout",
     "output_type": "stream",
     "text": [
      "          * \n",
      "        * * * \n",
      "      * * * * * \n",
      "    * * * * * * * \n",
      "  * * * * * * * * * \n",
      "    * * * * * * * \n",
      "      * * * * * \n",
      "        * * * \n",
      "          * \n"
     ]
    }
   ],
   "source": [
    "n = 5\n",
    "for i in range(n-1):\n",
    "    for j in range(i, n):\n",
    "        print(\"  \", end=\"\")\n",
    "    for j in range(i):\n",
    "        print(\"* \", end=\"\")\n",
    "    for j in range(i+1):\n",
    "        print(\"* \", end=\"\")\n",
    "    print()\n",
    "for i in range(n):\n",
    "    for j in range(i+1):\n",
    "        print(\"  \", end=\"\")\n",
    "    for j in range(i, n):\n",
    "        print(\"* \", end=\"\")\n",
    "    for j in range(i, n-1):\n",
    "        print(\"* \", end=\"\")\n",
    "    print()"
   ]
  },
  {
   "cell_type": "code",
   "execution_count": 87,
   "metadata": {},
   "outputs": [
    {
     "name": "stdout",
     "output_type": "stream",
     "text": [
      "  ***  \n",
      " *   * \n",
      " *   * \n",
      " ***** \n",
      " *   * \n",
      " *   * \n",
      " *   * \n",
      "\n"
     ]
    }
   ],
   "source": [
    "n =7\n",
    "result_str=\"\"\n",
    "for row in range(n):\n",
    "    for column in range(n):\n",
    "        if (((column == 1 or column == 5) and row != 0) or ((row == 0 or row == 3) and (column > 1 and column < 5))):\n",
    "            result_str = result_str + \"*\"  # Append '*' to the 'result_str'\n",
    "        else:\n",
    "            result_str = result_str + \" \" \n",
    "    result_str = result_str + \"\\n\"  # Add a newline character after each row in 'result_str'\n",
    "\n",
    "# Print the final 'result_str' containing the pattern\n",
    "print(result_str) "
   ]
  },
  {
   "cell_type": "code",
   "execution_count": 93,
   "metadata": {},
   "outputs": [
    {
     "name": "stdout",
     "output_type": "stream",
     "text": [
      " ****  \n",
      " *   * \n",
      " *   * \n",
      " *   * \n",
      " *   * \n",
      " *   * \n",
      " ****  \n",
      "\n"
     ]
    }
   ],
   "source": [
    "# Initialize an empty string named 'result_str'\n",
    "result_str = \"\"\n",
    "\n",
    "# Iterate through rows from 0 to 6 using the range function\n",
    "for row in range(0, 7):\n",
    "    # Iterate through columns from 0 to 6 using the range function\n",
    "    for column in range(0, 7):\n",
    "        # Check conditions to determine whether to place '*' or ' ' in the result string\n",
    "        \n",
    "        # If conditions are met, place '*' in specific positions based on row and column values\n",
    "        if (column == 1 or ((row == 0 or row == 6) and (column > 1 and column < 5)) or (column == 5 and row != 0 and row != 6)):\n",
    "            result_str = result_str + \"*\"  # Append '*' to the 'result_str'\n",
    "        else:\n",
    "            result_str = result_str + \" \"  # Append space (' ') to the 'result_str'\n",
    "\n",
    "    result_str = result_str + \"\\n\"  # Add a newline character after each row in 'result_str'\n",
    "\n",
    "# Print the final 'result_str' containing the pattern\n",
    "print(result_str)"
   ]
  },
  {
   "cell_type": "code",
   "execution_count": 99,
   "metadata": {},
   "outputs": [
    {
     "data": {
      "text/plain": [
       "12"
      ]
     },
     "execution_count": 99,
     "metadata": {},
     "output_type": "execute_result"
    }
   ],
   "source": [
    "import numpy as np\n",
    "one_list = [1,2,3,4,5]\n",
    "one_list = np.array(one_list)\n",
    "one_list\n",
    "\n",
    "twod_list = ([1,2,3,4],[1,2,3,5],[4,5,6,7])\n",
    "twod_list = np.array(twod_list)\n",
    "twod_list\n",
    "\n",
    "twod_list.size\n"
   ]
  }
 ],
 "metadata": {
  "kernelspec": {
   "display_name": "base",
   "language": "python",
   "name": "python3"
  },
  "language_info": {
   "codemirror_mode": {
    "name": "ipython",
    "version": 3
   },
   "file_extension": ".py",
   "mimetype": "text/x-python",
   "name": "python",
   "nbconvert_exporter": "python",
   "pygments_lexer": "ipython3",
   "version": "3.12.7"
  }
 },
 "nbformat": 4,
 "nbformat_minor": 2
}
