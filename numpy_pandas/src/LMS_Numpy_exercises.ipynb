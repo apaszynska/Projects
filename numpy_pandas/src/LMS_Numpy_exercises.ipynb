{
 "cells": [
  {
   "cell_type": "markdown",
   "metadata": {},
   "source": [
    "### There are 5 numbers in the data set: (8, 12, 16, 24, 4)\n",
    " What is the mean?\n",
    " What will be the sum of deviations of individual data points from their mean?\n",
    " What is the standard deviation?"
   ]
  },
  {
   "cell_type": "code",
   "execution_count": null,
   "metadata": {},
   "outputs": [],
   "source": [
    "Mean = (8 + 12 + 16 + 24 + 4)/5 = 12,8\n",
    "Sum of deviations = (12,8 -8)^2 + (12,8 -12)^2 +.... = 23,04 +0.64+10.24 + 125,44 +77,44 = 236,8 / 5 = 47,36\n",
    "standard deviation = 6,88"
   ]
  },
  {
   "cell_type": "code",
   "execution_count": null,
   "metadata": {},
   "outputs": [
    {
     "name": "stdout",
     "output_type": "stream",
     "text": [
      "12.8\n",
      "[ 4  8 12 16 24]\n"
     ]
    },
    {
     "data": {
      "text/plain": [
       "6.881860213634101"
      ]
     },
     "execution_count": 11,
     "metadata": {},
     "output_type": "execute_result"
    }
   ],
   "source": [
    "import numpy as np\n",
    "data = np.array([8, 12, 16, 24, 4])\n",
    "dmean = data.mean()\n",
    "print(dmean)\n",
    "data.sort()\n",
    "print(data)\n",
    "data.std()\n",
    "\n",
    "\n",
    "\n"
   ]
  },
  {
   "cell_type": "markdown",
   "metadata": {},
   "source": [
    "## Ex 3 : Odp. E  = A & D "
   ]
  },
  {
   "cell_type": "code",
   "execution_count": 164,
   "metadata": {},
   "outputs": [
    {
     "name": "stdout",
     "output_type": "stream",
     "text": [
      "ModeResult(mode=29, count=8)\n",
      "[ 5 26 26 26 26 26 26 26 27 27 27 27 29 29 29 29 29 29 29 29]\n"
     ]
    }
   ],
   "source": [
    "from scipy import stats as st\n",
    "[10, 10, 10, 10, 11, 11, 12, 13, 14 ]\n",
    "[15, 15, 15, 16, 16, 16, 16, 16, 17, 18, 19, 19]\n",
    "[20, 20, 20, 21, 21, 21, 21, 21, 22, 22, 22, 23, 23, 23, 24, 24, 24]\n",
    "data = [26, 26, 26, 26, 26, 26, 26, 27, 27, 27, 27, 29, 29, 5, 29, 29, 29, 29, 29, 29]\n",
    "[30, 30, 30, 30, 30, 31, 31, 32, 32, 33, 33, 34, 34]\n",
    "[35, 35, 35, 37, 37, 37, 37, 39, 39, 39]\n",
    "[40, 40, 43, 43, 44, 44]\n",
    "[46, 46, 46, 47, 49]\n",
    "[52, 53, 54]\n",
    "data = np.array(data)\n",
    "data.sort()\n",
    "st.mode(data)\n",
    "print(st.mode(data))\n",
    "print(data)"
   ]
  },
  {
   "cell_type": "code",
   "execution_count": 42,
   "metadata": {},
   "outputs": [
    {
     "name": "stdout",
     "output_type": "stream",
     "text": [
      "39.0\n",
      "10.45695225879025\n"
     ]
    },
    {
     "data": {
      "text/plain": [
       "10.44030650891055"
      ]
     },
     "execution_count": 42,
     "metadata": {},
     "output_type": "execute_result"
    }
   ],
   "source": [
    "import math\n",
    "salary = [25, 25, 25, 40, 40, 35, 50, 50, 50, 50]\n",
    "salary = np.array(salary)\n",
    "print(salary.mean())\n",
    "for i in salary:\n",
    "    x += (39-i)**2\n",
    "x= x/ 10\n",
    "x = math.sqrt(x)\n",
    "print(x)\n",
    "salary.std()\n",
    "\n"
   ]
  },
  {
   "cell_type": "markdown",
   "metadata": {},
   "source": [
    "### Numpy Ex.\n"
   ]
  },
  {
   "cell_type": "code",
   "execution_count": null,
   "metadata": {},
   "outputs": [],
   "source": []
  },
  {
   "cell_type": "code",
   "execution_count": null,
   "metadata": {},
   "outputs": [
    {
     "name": "stdout",
     "output_type": "stream",
     "text": [
      "[0 0 0 0 1 0 0 0 0 0]\n",
      "[0 0 0 0 1 0 0 0 0 0]\n",
      "[0 1 2 3 4 5 6 7 8]\n",
      "0\n",
      "1\n",
      "4\n",
      "(array([0, 1, 4], dtype=int64),)\n",
      "[0 1 4]\n"
     ]
    },
    {
     "data": {
      "text/plain": [
       "array([[0, 0, 0, 0, 0, 0, 0, 0, 0, 0, 0, 0],\n",
       "       [0, 6, 0, 4, 4, 0, 7, 9, 7, 0, 9, 0],\n",
       "       [0, 0, 3, 3, 5, 0, 9, 0, 3, 0, 5, 0],\n",
       "       [0, 0, 4, 9, 4, 2, 1, 3, 1, 4, 3, 0],\n",
       "       [0, 8, 9, 8, 4, 9, 9, 5, 1, 1, 4, 0],\n",
       "       [0, 8, 2, 9, 8, 2, 1, 8, 2, 6, 8, 0],\n",
       "       [0, 8, 3, 1, 9, 0, 0, 0, 6, 8, 7, 0],\n",
       "       [0, 5, 9, 5, 8, 9, 2, 0, 7, 2, 5, 0],\n",
       "       [0, 5, 0, 7, 0, 3, 9, 5, 2, 2, 7, 0],\n",
       "       [0, 0, 9, 8, 7, 6, 0, 2, 7, 5, 5, 0],\n",
       "       [0, 7, 1, 9, 4, 5, 2, 5, 7, 7, 0, 0],\n",
       "       [0, 0, 0, 0, 0, 0, 0, 0, 0, 0, 0, 0]])"
      ]
     },
     "execution_count": 161,
     "metadata": {},
     "output_type": "execute_result"
    }
   ],
   "source": [
    "#### 1. Import the numpy package under the name `np`\n",
    "import numpy as np\n",
    "\n",
    "#### 2. Print the numpy version and the configuration\n",
    "#np.show_config()\n",
    "#np.__version__\n",
    "\n",
    "#### 3. Create a null vector of size 10 \n",
    "#arr = np.zeros(10, dtype=np.int32)\n",
    "#print(arr)\n",
    "\n",
    "#### 4. How to find the memory size of any array\n",
    "#arr.size\n",
    "#arr.itemsize\n",
    "\n",
    "#### 5. How to get the documentation of the numpy add function from the command line?\n",
    "#print(np.info(np.add))\n",
    "\n",
    "\n",
    "#### 6. Create a null vector of size 10 but the fifth value which is 1 \n",
    "\n",
    "arr = np.zeros(10, dtype=np.int32)\n",
    "arr[4] = 1\n",
    "print(arr)\n",
    "\n",
    "# using a loop\n",
    "result = []\n",
    "for i in range(10):\n",
    "    if i == 4:\n",
    "        result.append(1)\n",
    "    else:\n",
    "        result.append(0)\n",
    "\n",
    "arr = np.array(result, dtype=np.int32)\n",
    "\n",
    "# list comprehension\n",
    "\n",
    "arr = np.array([1 if i == 4 else 0 for i in range(10)], dtype=np.int32)\n",
    "print(arr)\n",
    "\n",
    "#### 7. Create a vector with values ranging from 10 to 49\n",
    "\n",
    "siedem = np.arange(10,49)\n",
    "\n",
    "#### 8. Reverse a vector (first element becomes last) \n",
    "\n",
    "siedem = np.arange(49, 10)\n",
    "\n",
    "#### 9. Create a 3x3 matrix with values ranging from 0 to 8 \n",
    "matryca = np.arange(0,9)\n",
    "print(matryca)\n",
    "matryca = matryca.reshape(3,3)\n",
    "matryca\n",
    "\n",
    "#### 10. Find indices of non-zero elements from [1,2,0,0,4,0]\n",
    "arr2 = np.array([1,2,0,0,4,0])\n",
    "for i in range(len(arr2)):\n",
    "    if arr2[i] != 0:\n",
    "        print(i)\n",
    "## indices dziala tylkodla wielowymiarowych macierzy, dla jendowymiarowych uzywamy .where lub .arange\n",
    "\n",
    "gdzie = np.nonzero(arr2)\n",
    "print(gdzie)\n",
    "    \n",
    "gdzie = np.where(arr2 != 0)[0]\n",
    "print(gdzie)\n",
    "\n",
    "#### 11. Create a 3x3 identity matrix - all diagonal are equal 1, the rest  0\n",
    "\n",
    "macierz = np.eye(3,dtype = int)\n",
    "macierz\n",
    "\n",
    "\n",
    "#### 12. Create a 3x3x3 array with random values \n",
    "\n",
    "trzyd = np.random.rand(3, 3, 3)\n",
    "trzyd\n",
    "\n",
    "#### 13. Create a 10x10 array with random values and find the minimum and maximum values\n",
    "\n",
    "nowa = np.random.rand(10,10)\n",
    "nowa.max()\n",
    "nowa.min()\n",
    "\n",
    "#### 14. Create a random vector of size 30 and find the mean value \n",
    "\n",
    "przypadek = np.random.rand(30)\n",
    "przypadek\n",
    "srednia = przypadek.mean()\n",
    "srednia\n",
    "\n",
    "#### 15. Create a 2d array with 1 on the border and 0 inside \n",
    "n= 10\n",
    "arr = np.zeros((n,n), dtype =np.int64)\n",
    "#arr[:4,:1] = 1\n",
    "#arr[:1,:4] = 1\n",
    "#arr[3:,:4] = 1\n",
    "#arr[1:3,3:] = 1\n",
    "#arr\n",
    "\n",
    "arr[0,:]=1\n",
    "arr[-1,:] =1\n",
    "arr[:,0] = 1\n",
    "arr[:,-1] =1\n",
    "arr\n",
    "\n",
    "\n",
    "#### 16. How to add a border (filled with 0's) around an existing array?\n",
    "arr = np.random.randint(10,size =(10,10)) # range, size(n,n)\n",
    "pad_arr = np.pad(arr,(1,1), \"linear_ramp\", end_values=(0,0))\n",
    "pad_arr\n",
    "\n",
    "\n",
    "\n",
    "\n",
    "\n",
    "\n",
    "\n",
    "\n"
   ]
  },
  {
   "cell_type": "code",
   "execution_count": 15,
   "metadata": {},
   "outputs": [
    {
     "name": "stdout",
     "output_type": "stream",
     "text": [
      "(5, 2)\n",
      "[0, 1, 2, 3, 10, 8]\n"
     ]
    },
    {
     "data": {
      "text/plain": [
       "array([3, 4, 5])"
      ]
     },
     "execution_count": 15,
     "metadata": {},
     "output_type": "execute_result"
    }
   ],
   "source": [
    "#### 17. What is the result of the following expression?\n",
    "\n",
    "0 * np.nan \n",
    "#Multiplying 0 by np.nan results in np.nan. \n",
    "#Reason: In arithmetic operations, multiplying by NaN (Not a Number) generally propagates the NaN value, since it's not a valid number and the result of any arithmetic operation with NaN is also NaN.\n",
    "np.nan == np.nan # Returns False, because undefined or not a number can not equal to any value, including itself\n",
    "np.inf > np.nan # Any comparison with nan is always false\n",
    "np.nan - np.nan #undefined operation , so results in np.nan\n",
    "np.nan in set([np.nan]) # This expression results in True.\n",
    "                        # Reason: Although np.nan is not equal to np.nan, it is considered to be present in a set containing np.nan. \n",
    "                        # This is because in checks for the presence of an element in a set based on the identity of the elements, not equality. \n",
    "                        # Therefore, a set with a NaN value can contain NaN.\n",
    "0.3 == 3 * 0.1 # apparently False...due to precision issues\n",
    "\n",
    "#### 18. Create a 5x5 matrix with values 1,2,3,4 just below the diagonal\n",
    "\n",
    "diagonal_elements = np.array([1,2,3,4])\n",
    "#val = np.zeros((5,5), dtype=int)\n",
    "val = np.diag(diagonal_elements, k=-1)\n",
    "val\n",
    "\n",
    "#### 19. Create a 8x8 matrix and fill it with a checkerboard pattern ---wiersze[start:stop:step, kolumny]\n",
    "n = 8\n",
    "arr = np.zeros((n,n), dtype =np.int64)\n",
    "#arr[::,1::2]= 1\n",
    "#arr[1::2,::]= 1\n",
    "#arr[1::2,1::2]=0\n",
    "#arr\n",
    "\n",
    "arr[1::2, ::2]=1\n",
    "arr[::2, 1::2]=1\n",
    "arr\n",
    "\n",
    "#### 20. Consider a (6,7,8) shape array, what is the index (x,y,z) of the 100th element?\n",
    "\n",
    "arr = np.unravel_index(99,(6,7,8)) # ( 99, bo od zera liczymy)\n",
    "#arr=np.random.randint(0,100, size=(6,7,8))\n",
    "arr\n",
    "\n",
    "#(1,5,3) czyli druga macierz, 6 wiersz i 4 kolumna (od 0 i up to but not including)\n",
    "\n",
    "#### 21. Create a checkerboard 8x8 matrix using the tile function\n",
    "arr = np.array([[0,1],[1,0]])\n",
    "arr = np.tile(arr,(4,4))   # tile(A, reps) A - input array, reps - number of repetitions along each axis\n",
    "\n",
    "#### 22. Normalize a 5x5 random matrix ---> Normalize means to adapt to another range for example [0,1]\n",
    "\n",
    "# min/max normalization() rescaling)\n",
    "arr = np.random.randint(0, 100, size=(5,5))\n",
    "arr_max = arr.max()\n",
    "arr_min = arr.min()\n",
    "\n",
    "normalized = (np.subtract(arr,arr_min))/ (arr_max - arr_min)\n",
    "normalized\n",
    "\n",
    "\n",
    "# Z -Score normalization  - where after rescaling, every mean value is 0 and std = 1\n",
    "arr_mean = arr.mean()\n",
    "arr_std = arr.std()\n",
    "\n",
    "\n",
    "normalized = np.subtract(arr,arr_mean) / arr_std\n",
    "normalized\n",
    "\n",
    "#### 23. Create a custom dtype that describes a color as four unsigned bytes (RGBA)\n",
    "\n",
    "arr = np.dtype([(\"r\",np.uint8), (\"g\", np.uint), (\"b\", np.uint8), (\"a\",np.uint8)])\n",
    "colors = np.array([(255,0,0,255),(0, 255,0, 255), (0,0,255,255)], dtype = arr)  # (red, green, blue, alpha)\n",
    "\n",
    "#### 24. Multiply a 5x3 matrix by a 3x2 matrix (real matrix product)\n",
    "\n",
    "arr = np.random.randint(0, 10, size = (5,3))\n",
    "arr2 = np. random.randint(0, 10, size = (3,2))\n",
    "multiplied = np.matmul(arr, arr2)\n",
    "print(multiplied.shape)\n",
    "multiplied\n",
    "\n",
    "#### 25. Given a 1D array, negate all elements which are between 3 and 8, in place.\n",
    "\n",
    "import numpy as np\n",
    "arr = np.array([0,1,2,3,4,10,8])\n",
    "new =[]\n",
    "for i in arr:\n",
    "    if i > 3 and i < 8:\n",
    "        pass\n",
    "    else:\n",
    "        new.append(i)\n",
    "print(new)\n",
    "\n",
    "\n",
    "#### 26. What is the output of the following script?\n",
    "\"\"\"\"\n",
    "print(sum(range(5),-1))\n",
    "from numpy import *\n",
    "print(sum(range(5),-1))\n",
    "\"\"\"\n",
    "9\n",
    "\n",
    "\n",
    "#### 27. Consider an integer vector Z, which of these expressions are legal?\n",
    "\"\"\"\n",
    "Z**Z\n",
    "2 << Z >> 2\n",
    "Z <- Z\n",
    "1j*Z\n",
    "Z/1/1\n",
    "Z<Z>Z\n",
    "\"\"\"\n",
    "\n",
    "\n",
    "#### 28. What are the result of the following expressions?\n",
    "\n",
    "\"\"\"\n",
    "np.array(0) / np.array(0)\n",
    "np.array(0) // np.array(0)\n",
    "np.array([np.nan]).astype(int).astype(float)\n",
    "\"\"\"\n",
    "\n",
    "#### 29. How to round away from zero a float array ?\n",
    "\n",
    "arr = np.array([0.6,1.7,2.2,3.5,4.7,10,8])\n",
    "arr2= np.ceil(arr).astype(int)\n",
    "arr2\n",
    "\n",
    "#### 30. How to find common values between two arrays? \n",
    "\n",
    "arr = np.array([1,2,3,4,5])\n",
    "arr2 = np.array([3,4,5,6,7])\n",
    "\n",
    "com_val = np.intersect1d(arr,arr2)\n",
    "com_val\n",
    "\n",
    "\n"
   ]
  }
 ],
 "metadata": {
  "kernelspec": {
   "display_name": "base",
   "language": "python",
   "name": "python3"
  },
  "language_info": {
   "codemirror_mode": {
    "name": "ipython",
    "version": 3
   },
   "file_extension": ".py",
   "mimetype": "text/x-python",
   "name": "python",
   "nbconvert_exporter": "python",
   "pygments_lexer": "ipython3",
   "version": "3.12.7"
  }
 },
 "nbformat": 4,
 "nbformat_minor": 2
}
