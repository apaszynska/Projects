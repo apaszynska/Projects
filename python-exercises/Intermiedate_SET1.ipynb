{
 "cells": [
  {
   "cell_type": "code",
   "execution_count": 8,
   "metadata": {},
   "outputs": [
    {
     "name": "stdout",
     "output_type": "stream",
     "text": [
      "[20, 24, 14, 9, 12, 13, 25, 23, 40, 11]\n",
      "[20, 24, 14, 12, 13, 25, 23, 11]\n"
     ]
    }
   ],
   "source": [
    "customer_year = [1999, 1995, 2005, 2010, 2007, 2006, 1994, 1996, 1979, 2008]\n",
    "ages = []\n",
    "for year in customer_year:\n",
    "    customer_age =  2019 - year\n",
    "    ages.append(customer_age)\n",
    "print(ages)\n",
    "\n",
    "youngest = ages[0]\n",
    "oldest = ages[0]\n",
    "\n",
    "for age in ages:\n",
    "    if age < youngest:\n",
    "        youngest = age\n",
    "    if age > oldest:\n",
    "        oldest = age\n",
    "ages.remove(youngest)\n",
    "ages.remove(oldest)\n",
    "print(ages)"
   ]
  },
  {
   "cell_type": "markdown",
   "metadata": {},
   "source": [
    "# SET 1 \n",
    "### EX 1\n",
    "\n",
    "Write a method that takes the array as an argument and returns this “outlier” N."
   ]
  },
  {
   "cell_type": "code",
   "execution_count": 75,
   "metadata": {},
   "outputs": [
    {
     "name": "stdout",
     "output_type": "stream",
     "text": [
      "11\n"
     ]
    }
   ],
   "source": [
    "\n",
    "def find_outlier(numbers):\n",
    "    \n",
    "    #are numbers odd?\n",
    "    odd = 0\n",
    "    even = 0\n",
    "    for number in numbers[:3]:\n",
    "        if number %2 == 0:\n",
    "            even = even +1\n",
    "        else:\n",
    "            odd = odd +1\n",
    "        # if the majority is odd, we can find an even number\n",
    "    if odd > even:\n",
    "        for number in numbers:\n",
    "            if number %2 == 0:\n",
    "                return number\n",
    "    else:\n",
    "        for number in numbers:\n",
    "            if number %2 !=0:\n",
    "                return number\n",
    "numberrr = [2, 4, 0, 100, 4, 11, 2602, 36]\n",
    "print(find_outlier(numberrr))\n",
    "        \n",
    "\n"
   ]
  },
  {
   "cell_type": "code",
   "execution_count": 1,
   "metadata": {},
   "outputs": [
    {
     "name": "stdout",
     "output_type": "stream",
     "text": [
      "[3]\n"
     ]
    }
   ],
   "source": [
    "numbers = [2, 4, 6, 8, 10, 3]\n",
    "odd = []\n",
    "even = []\n",
    "count = 0\n",
    "\n",
    "for number in numbers:\n",
    "    if number %2== 0:\n",
    "        even.append(number)\n",
    "        count = count + 1\n",
    "    else:\n",
    "        odd.append(number)\n",
    "if count > 2:\n",
    "    print(odd)\n",
    "else:\n",
    "    print(even)"
   ]
  },
  {
   "cell_type": "code",
   "execution_count": 72,
   "metadata": {},
   "outputs": [
    {
     "name": "stdout",
     "output_type": "stream",
     "text": [
      "11\n",
      "3\n",
      "160\n"
     ]
    }
   ],
   "source": [
    "class Outlier:\n",
    "\n",
    "    def __init__(self,numbers):\n",
    "        self.numbers = numbers\n",
    "\n",
    "    def find_outlier(self):\n",
    "        odd = 0\n",
    "        even = 0\n",
    "        for number in self.numbers[:3]:\n",
    "            if number %2 == 0:\n",
    "                even = even +1\n",
    "            else:\n",
    "                odd = odd +1\n",
    "        # if the majority is odd, we can find an even number\n",
    "\n",
    "        if odd > even:\n",
    "            for number in self.numbers:\n",
    "                if number %2 == 0:\n",
    "                    return number\n",
    "        else:\n",
    "            for number in self.numbers:\n",
    "                if number %2 != 0:\n",
    "                    return number   \n",
    "\n",
    "outlier = Outlier([2, 4, 0, 100, 4, 11, 2602, 36])\n",
    "outlier1 = Outlier([160, 3, 1719, 19, 11, 13, -21])\n",
    "outlier2 = Outlier([2, 4, 6, 8, 10, 3])\n",
    "\n",
    "print(outlier.find_outlier())\n",
    "print(outlier2.find_outlier())\n",
    "print(outlier1.find_outlier())\n",
    "\n",
    "        "
   ]
  },
  {
   "cell_type": "markdown",
   "metadata": {},
   "source": [
    "### Ex 2\n",
    "\n",
    "Your goal in this task is to implement a difference function, which subtracts one\n",
    "list from another and returns the result.\n",
    "\n",
    "It should remove all values from list a, which are present in list b."
   ]
  },
  {
   "cell_type": "code",
   "execution_count": 6,
   "metadata": {},
   "outputs": [
    {
     "name": "stdout",
     "output_type": "stream",
     "text": [
      "[1, 2, 6]\n"
     ]
    }
   ],
   "source": [
    "\n",
    "a = [1,2,3,4,5,6]\n",
    "b = [3,4,5]\n",
    "odjac = []\n",
    "\n",
    "for number in a:\n",
    "    if not number in b:\n",
    "        odjac.append(number)\n",
    "print(odjac)\n",
    "\n",
    "\n",
    "\n",
    "        \n",
    "\n"
   ]
  },
  {
   "cell_type": "code",
   "execution_count": 26,
   "metadata": {},
   "outputs": [
    {
     "name": "stdout",
     "output_type": "stream",
     "text": [
      "[1, 28, 292]\n"
     ]
    }
   ],
   "source": [
    "#ex 2 / Intermediate\n",
    "\n",
    "def array_diff(a,b):\n",
    "    odjac = []\n",
    "    for number in a:\n",
    "        if not number in b:\n",
    "            odjac.append(number)\n",
    "    return odjac\n",
    "            \n",
    "a = [1,2,3,28,292]\n",
    "b = [2,3,4]\n",
    "\n",
    "print(array_diff(a,b))\n",
    "#print(array_)\n"
   ]
  },
  {
   "cell_type": "code",
   "execution_count": 71,
   "metadata": {},
   "outputs": [
    {
     "data": {
      "text/plain": [
       "[1, 3]"
      ]
     },
     "execution_count": 71,
     "metadata": {},
     "output_type": "execute_result"
    }
   ],
   "source": [
    "#ex 2 / Intermediate\n",
    "class Roznica:\n",
    "\n",
    "    def __init__(self,a,b):\n",
    "        self.a = a\n",
    "        self.b = b\n",
    "\n",
    "    def array_diff(self):\n",
    "        odjac = []\n",
    "        for number in self.a:\n",
    "            if not number in self.b:\n",
    "                odjac.append(number)\n",
    "        return odjac\n",
    "            \n",
    "hopp = Roznica([1,2,3],[2])\n",
    "\n",
    "hopp.array_diff()"
   ]
  },
  {
   "cell_type": "markdown",
   "metadata": {},
   "source": [
    "### Ex 3 Intermediate\n",
    "\n",
    "Given: an array containing hashes of names\n",
    "Return: a string formatted as a list of names separated by commas except for the last\n",
    "two names, which should be separated by an ampersand."
   ]
  },
  {
   "cell_type": "code",
   "execution_count": 63,
   "metadata": {},
   "outputs": [
    {
     "name": "stdout",
     "output_type": "stream",
     "text": [
      "Bart, Kuba, Ola, Mati & Emily\n",
      "Bart, Kuba, Ola, Mati, Emily\n",
      "Bart, Kuba, Ola, Mati, Emily\n",
      "Bart, Kuba, Ola, Mati, Emily\n",
      "Bart, Kuba, Ola, Mati, Emily\n",
      "Bart, Kuba, Ola, Mati, Emily\n",
      "Bart, Kuba, Ola, Mati, Emily\n"
     ]
    }
   ],
   "source": [
    "def checklist(names):\n",
    "\n",
    "    if len(names)== 1:\n",
    "        print(names[0][\"name\"])\n",
    "    if len(names)==2:\n",
    "        print(names[0][\"name\"] & names[1][\"name\"])\n",
    "    if len(names) > 2:\n",
    "    \n",
    "        last = names[-2][\"name\"]\n",
    "        lastlast = names[-1][\"name\"]\n",
    "\n",
    "        for i in range(len(names)-2):\n",
    "            print(names[i][\"name\"], end=\", \")\n",
    "        print(f\"{last} & {lastlast}\")\n",
    "\n",
    "checklist([{\"name\": \"Bart\"},{\"name\": \"Kuba\"},{\"name\": \"Ola\"},{\"name\": \"Mati\"},{\"name\": \"Emily\"}])\n",
    "\n",
    "names = [{\"name\": \"Bart\"},{\"name\": \"Kuba\"},{\"name\": \"Ola\"},{\"name\": \"Mati\"},{\"name\": \"Emily\"}]\n",
    "for i in range(len(names)):\n",
    "    x = \", \".join(i[\"name\"] for i in names)\n",
    "    print(x)\n",
    "\n",
    "imiona=[]\n",
    "for x in names:\n",
    "    imiona.append(x[\"name\"])\n",
    "    skrot = \", \".join(imiona)\n",
    "print(skrot)\n",
    "\n"
   ]
  },
  {
   "cell_type": "markdown",
   "metadata": {},
   "source": [
    "### Exercise 4\n",
    "\n",
    "In this task, create a function that takes a list of non-negative integers and strings\n",
    "and returns a new list with the strings filtered out\n",
    "\n",
    "Example\n",
    "filter_list([1,2,’a’,’b’]) == [1,\n",
    "filter_list([1,’a’,’b’,0,15]) == [1,0,1\n",
    "filter_list([1,2,’aasf’,’1′,’123′,123]) == [1,2,12"
   ]
  },
  {
   "cell_type": "code",
   "execution_count": 239,
   "metadata": {},
   "outputs": [
    {
     "name": "stdout",
     "output_type": "stream",
     "text": [
      "[1, 3]\n"
     ]
    }
   ],
   "source": [
    "def przefiltrowana():\n",
    "    newlist = []\n",
    "    data = input(\"Give a list of numbers and strings:\").split()\n",
    "    \n",
    "    for x in data:\n",
    "        try:                #tries to convert str to int, if succesful adds to the list\n",
    "            num = int(x)\n",
    "            newlist.append(num)\n",
    "        except:             #if doesnt succesful, skips\n",
    "            pass\n",
    "    print(newlist)\n",
    "\n",
    "przefiltrowana()"
   ]
  },
  {
   "cell_type": "code",
   "execution_count": 212,
   "metadata": {},
   "outputs": [
    {
     "ename": "ValueError",
     "evalue": "invalid literal for int() with base 10: 'ola'",
     "output_type": "error",
     "traceback": [
      "\u001b[1;31m---------------------------------------------------------------------------\u001b[0m",
      "\u001b[1;31mValueError\u001b[0m                                Traceback (most recent call last)",
      "Cell \u001b[1;32mIn[212], line 10\u001b[0m\n\u001b[0;32m      7\u001b[0m             newlist\u001b[38;5;241m.\u001b[39mappend(x)\n\u001b[0;32m      8\u001b[0m     \u001b[38;5;28mprint\u001b[39m(newlist)\n\u001b[1;32m---> 10\u001b[0m przefiltrowana()\n",
      "Cell \u001b[1;32mIn[212], line 5\u001b[0m, in \u001b[0;36mprzefiltrowana\u001b[1;34m()\u001b[0m\n\u001b[0;32m      3\u001b[0m dane \u001b[38;5;241m=\u001b[39m \u001b[38;5;28minput\u001b[39m(\u001b[38;5;124m\"\u001b[39m\u001b[38;5;124mGive a list of numbers and strings:\u001b[39m\u001b[38;5;124m\"\u001b[39m)\u001b[38;5;241m.\u001b[39msplit()\n\u001b[0;32m      4\u001b[0m \u001b[38;5;28;01mfor\u001b[39;00m x \u001b[38;5;129;01min\u001b[39;00m dane:\n\u001b[1;32m----> 5\u001b[0m     y \u001b[38;5;241m=\u001b[39m \u001b[38;5;28mint\u001b[39m(x)\n\u001b[0;32m      6\u001b[0m     \u001b[38;5;28;01mif\u001b[39;00m \u001b[38;5;28mtype\u001b[39m(x) \u001b[38;5;241m==\u001b[39m \u001b[38;5;28mint\u001b[39m:\n\u001b[0;32m      7\u001b[0m         newlist\u001b[38;5;241m.\u001b[39mappend(x)\n",
      "\u001b[1;31mValueError\u001b[0m: invalid literal for int() with base 10: 'ola'"
     ]
    }
   ],
   "source": [
    "def przefiltrowana():\n",
    "    newlist = []\n",
    "    dane = input(\"Give a list of numbers and strings:\").split()\n",
    "    for x in dane:\n",
    "        y = int(x)\n",
    "        if type(x) == int:\n",
    "            newlist.append(x)\n",
    "    print(newlist)\n",
    "\n",
    "przefiltrowana()"
   ]
  },
  {
   "cell_type": "code",
   "execution_count": 220,
   "metadata": {},
   "outputs": [
    {
     "data": {
      "text/plain": [
       "[1, 2]"
      ]
     },
     "execution_count": 220,
     "metadata": {},
     "output_type": "execute_result"
    }
   ],
   "source": [
    "def przefiltrowana(data):\n",
    "    return[i for i in data if type(i) !=str]\n",
    "przefiltrowana([1,2,\"ola\"])"
   ]
  },
  {
   "cell_type": "markdown",
   "metadata": {},
   "source": [
    "### Excercise 5\n",
    "Given an array, find the integer that appears an odd number of times. There will always be only one integer that appears an odd number of times.\n",
    "\n",
    "find_it([20,1,-1,2,-2,3,3,5,5,1,2,4,20,4,-1,-2,5])\n",
    "\n"
   ]
  },
  {
   "cell_type": "code",
   "execution_count": 47,
   "metadata": {},
   "outputs": [
    {
     "name": "stdout",
     "output_type": "stream",
     "text": [
      "Number 5 appears 3 times in a list\n"
     ]
    }
   ],
   "source": [
    "def find_int(lista):\n",
    "    nowa = {}\n",
    "    for number in lista:\n",
    "        if number not in nowa:\n",
    "            nowa[number] = 1\n",
    "        else:\n",
    "            nowa[number] = nowa[number] + 1\n",
    "            if nowa[number]%2 != 0:\n",
    "                print(f\"Number {number} appears {nowa[number]} times in a list\")\n",
    "\n",
    "find_int([20,1,-1,2,-2,3,3,5,5,1,2,4,20,4,-1,-2,5])\n",
    "\n",
    "        "
   ]
  },
  {
   "cell_type": "markdown",
   "metadata": {},
   "source": [
    "### Excercise 6 \n",
    "\n",
    "Check to see if a string has the same amount of ’x’s and ’o’s. The method must\n",
    "return a boolean and be case insensitive. The string can contain any char.\n",
    "\n",
    "Examples input/output:\n",
    "XO(“ooxx”) => true\n",
    "XO(“xooxx”) => false\n",
    "XO(“ooxXm”) => true\n",
    "XO(“zpzpzpp”) => true // when no ‘x’ and ‘o’ is present should return true\n",
    "XO(“zzoo”) => false"
   ]
  },
  {
   "cell_type": "code",
   "execution_count": 53,
   "metadata": {},
   "outputs": [
    {
     "name": "stdout",
     "output_type": "stream",
     "text": [
      "[]\n"
     ]
    }
   ],
   "source": [
    "def xando(slowo):\n",
    "    nowy = []\n",
    "    for x in slowo:\n",
    "        if x not in nowy:\n",
    "            count = 1\n",
    "        else:\n",
    "            count = count +1\n",
    "    print(nowy)\n",
    "xando([\"abxoo\"])"
   ]
  },
  {
   "cell_type": "code",
   "execution_count": 66,
   "metadata": {},
   "outputs": [
    {
     "data": {
      "text/plain": [
       "False"
      ]
     },
     "execution_count": 66,
     "metadata": {},
     "output_type": "execute_result"
    }
   ],
   "source": [
    "def xando(slowo):\n",
    "    nowy = [] \n",
    "    count = {}  \n",
    "    for x in slowo:\n",
    "        if x not in nowy:\n",
    "            nowy.append(x)\n",
    "            count[x] = 1  \n",
    "        else:\n",
    "            count[x] = count[x] + 1\n",
    "\n",
    "    if count[\"x\"] == count[\"o\"]:\n",
    "        return True\n",
    "    else:\n",
    "        return False\n",
    "         \n",
    "    print(\"Unique characters:\", nowy)\n",
    "    print(\"Character counts:\", count)\n",
    "\n",
    "xando(\"abxxxoooo\")"
   ]
  },
  {
   "cell_type": "markdown",
   "metadata": {},
   "source": [
    "### Exercise 7\n",
    "\n",
    "ATM machines allow 4 or 6 digit PIN codes\n",
    "and PIN codes cannot contain anything but\n",
    "exactly 4 digits or exactly 6 digits.\n",
    "\n",
    "If the function is passed a valid PIN string, return\n",
    "true, else return false.\n",
    "\n",
    "eg:\n",
    "\n",
    "validate_pin(“1234”) == True\n",
    "validate_pin(“12345′′) == False\n",
    "validate_pin(“a234”) == False"
   ]
  },
  {
   "cell_type": "code",
   "execution_count": 76,
   "metadata": {},
   "outputs": [
    {
     "data": {
      "text/plain": [
       "True"
      ]
     },
     "execution_count": 76,
     "metadata": {},
     "output_type": "execute_result"
    }
   ],
   "source": [
    "def validate_pin():\n",
    "    enterpin = input(\"Please enter the PIN\")\n",
    "    if len(enterpin) == 4 or len(enterpin) == 6:\n",
    "        return True\n",
    "    else:\n",
    "        return False\n",
    "validate_pin()"
   ]
  },
  {
   "cell_type": "markdown",
   "metadata": {},
   "source": [
    "### Excercie 8\n",
    "\n",
    "Simple, given a string of words, return the length of the shortest word(s).\n",
    "\n",
    "String will never be empty and you do not need to account for different data types."
   ]
  },
  {
   "cell_type": "code",
   "execution_count": 131,
   "metadata": {},
   "outputs": [
    {
     "name": "stdout",
     "output_type": "stream",
     "text": [
      "['kkk', 'kdd', 'kpp', 'kui']\n"
     ]
    }
   ],
   "source": [
    "def shortest(slowa):\n",
    "    slowa = slowa.split()\n",
    "    najkrotszy = slowa[0]\n",
    "    naj = []\n",
    "    for slowo in slowa: \n",
    "        if len(slowo) < len(najkrotszy):\n",
    "            najkrotszy = slowo\n",
    "            naj = [slowo]\n",
    "        elif len(slowo) == len(najkrotszy):\n",
    "            naj.append(slowo)\n",
    "    print(naj)\n",
    "\n",
    "shortest(\"Twoja kkk mama lubi adsfsdf sdkfsdjkk dsds kdd kpp kui\")\n",
    "\n",
    "    "
   ]
  },
  {
   "cell_type": "markdown",
   "metadata": {},
   "source": [
    "### Exercise 9 \n",
    "\n",
    "Find the missing letter\n",
    "\n",
    "Write a method that takes an array of consecutive (increasing) letters as input and\n",
    "that returns the missing letter in the array.\n",
    "\n",
    "You will always get an valid array. And it will be always exactly one letter be missing.\n",
    "The length of the array will always be at least 2.\n",
    "The array will always contain letters in only one case.\n",
    "\n",
    "Example:\n",
    "[‘a’,‘b’,‘c’,‘d’,‘f’] -> ‘e’\n",
    "[‘O’,‘Q’,‘R’,‘S’] -> ‘P’\n",
    "\n",
    "(Use the English alphabet with 26 letters )"
   ]
  },
  {
   "cell_type": "code",
   "execution_count": 211,
   "metadata": {},
   "outputs": [
    {
     "name": "stdout",
     "output_type": "stream",
     "text": [
      "['b']\n",
      "['B']\n"
     ]
    }
   ],
   "source": [
    "def find_letter(lista):\n",
    "    \n",
    "    alphabet = list(map(chr, range(97, 123)))\n",
    "    missing = []\n",
    "    upp_alphabet = [char.upper() for char in alphabet]\n",
    "    char = lista[0]\n",
    "\n",
    "    if char.islower():\n",
    "        for letter in alphabet:\n",
    "            if letter not in lista:\n",
    "                missing.append(letter)\n",
    "                break\n",
    "    else:\n",
    "        for x in upp_alphabet:\n",
    "            if x not in lista:\n",
    "                missing.append(x.upper())\n",
    "                break\n",
    "            \n",
    "    print(missing)\n",
    "\n",
    "find_letter([\"a\",\"c\",\"d\",\"e\"])\n",
    "find_letter([\"A\",\"C\"])"
   ]
  },
  {
   "cell_type": "markdown",
   "metadata": {},
   "source": [
    "### Exercise 10\n",
    "\n",
    "Make a program that filters a list of strings and returns a list with only yo\n",
    "friends name in it. If a name has exactly 4 letters in it, you can be sure that it has to\n",
    "be a friend of yours! Otherwise, you can be sure he /she is not.\n",
    "\n",
    "Ex: Input = [“Ryan”, “Kieran”, “Jason”, “Yous”], Output = [“Ryan”, “Yous”]\n",
    "\n",
    "Note: keep the original order of the names in the output."
   ]
  },
  {
   "cell_type": "code",
   "execution_count": 219,
   "metadata": {},
   "outputs": [
    {
     "data": {
      "text/plain": [
       "['Ryan', 'Yous']"
      ]
     },
     "execution_count": 219,
     "metadata": {},
     "output_type": "execute_result"
    }
   ],
   "source": [
    "def friends(lista):\n",
    "    new = []\n",
    "\n",
    "    for friend in lista:\n",
    "        if len(friend) == 4:\n",
    "            new.append(friend)\n",
    "    return new\n",
    "\n",
    "friends([\"Ryan\", \"Kieran\", \"Jason\", \"Yous\"])"
   ]
  }
 ],
 "metadata": {
  "kernelspec": {
   "display_name": "base",
   "language": "python",
   "name": "python3"
  },
  "language_info": {
   "codemirror_mode": {
    "name": "ipython",
    "version": 3
   },
   "file_extension": ".py",
   "mimetype": "text/x-python",
   "name": "python",
   "nbconvert_exporter": "python",
   "pygments_lexer": "ipython3",
   "version": "3.12.7"
  }
 },
 "nbformat": 4,
 "nbformat_minor": 2
}
