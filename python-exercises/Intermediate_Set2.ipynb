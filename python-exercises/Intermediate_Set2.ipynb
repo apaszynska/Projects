{
 "cells": [
  {
   "cell_type": "markdown",
   "metadata": {},
   "source": [
    "# SET 2\n",
    "### Exercise 1 ;D\n",
    "Count the number of occurrences of each character and return it as\n",
    "a list of tuples in order of appearance.\n",
    "\n",
    "Example:\n",
    "ordered_count(“abracadabra”) == [(‘a’, 5), (‘b’, 2), (‘r’, 2), (‘c’, 1), (‘d’, 1)]"
   ]
  },
  {
   "cell_type": "code",
   "execution_count": 10,
   "metadata": {},
   "outputs": [
    {
     "name": "stdout",
     "output_type": "stream",
     "text": [
      "[('h', 1), ('e', 2), ('j', 3), ('d', 3), ('l', 2), ('a', 2), ('o', 1), ('k', 1), ('s', 1)]\n"
     ]
    }
   ],
   "source": [
    "def ordered_count(words):\n",
    "    letter_count = {}\n",
    "    words = words[0]\n",
    "    for letter in words:\n",
    "        if letter not in letter_count:\n",
    "            letter_count[letter] = 1\n",
    "        else:\n",
    "            letter_count[letter] = letter_count[letter] +1\n",
    "    tuples = list(letter_count.items())\n",
    "    print(tuples)\n",
    "\n",
    "ordered_count([\"hejdladoejladjks\"])"
   ]
  },
  {
   "cell_type": "markdown",
   "metadata": {},
   "source": [
    "### Exercise 2\n",
    "\n",
    "A Narcissistic Number is a number which is the sum of its own digits, each raised\n",
    "to the power of the number of digits in a given base. In this problem, we will restrict\n",
    "ourselves to decimal (base 10).\n",
    "\n",
    "For example, take 153 (3 digits):\n",
    "1^3 + 5^3 + 3^3 = 1 + 125 + 27 = 153\n",
    "\n",
    "and 1634 (4 digits):\n",
    "1^4 + 6^4 + 3^4 + 4^4 = 1 + 1296 + 81 + 256 = 1634\n",
    "\n",
    "The Challenge:\n",
    "Your code must return true or false depending upon whether the given number is a\n",
    "narcissistic number in base 10. Error checking for text strings or other invalid inputs is\n",
    "not required, only valid integers will be passed into the function.\n"
   ]
  },
  {
   "cell_type": "code",
   "execution_count": 24,
   "metadata": {},
   "outputs": [
    {
     "name": "stdout",
     "output_type": "stream",
     "text": [
      "1634 is a n number\n"
     ]
    }
   ],
   "source": [
    "def narcisstic(number):\n",
    "\n",
    "    nn = 0\n",
    "    count = len(number)\n",
    "    for x in number:\n",
    "        nn += int(x)**count\n",
    "    if  nn == int(number):\n",
    "        print(f\"{number} is a n number\")\n",
    "    else:\n",
    "        print(f\"{number} is not \")\n",
    "narcisstic(\"1634\")      "
   ]
  },
  {
   "cell_type": "markdown",
   "metadata": {},
   "source": [
    "### Ex 3\n",
    "\n",
    "Write a Python program that takes two digits m (row) and n (column) as input and generates a two-dimensional array.\n",
    "\n",
    " The element value in the i-th row and j-th column of the array should be i*j.\n",
    "Note :\n",
    "i = 0,1.., m-1\n",
    "j = 0,1, n-1.\n",
    "\n",
    "Test Data : Rows = 3, Columns = 4\n",
    "Expected Result : [[0, 0, 0, 0], [0, 1, 2, 3], [0, 2, 4, 6]]"
   ]
  },
  {
   "cell_type": "code",
   "execution_count": null,
   "metadata": {},
   "outputs": [
    {
     "data": {
      "text/plain": [
       "9"
      ]
     },
     "execution_count": 5,
     "metadata": {},
     "output_type": "execute_result"
    }
   ],
   "source": [
    "def two_dims():\n",
    "    m = input(\"Number of rows: \")\n",
    "    n = input(\"Number of colums\")\n",
    "\n",
    "    m = int(m)\n",
    "    n = int(n)\n",
    "\n",
    "    array = []\n",
    "\n",
    "    for i in range(m):\n",
    "        return i*j\n",
    "    for        \n",
    "    \n",
    "        \n",
    "two_dims()\n",
    "\n"
   ]
  }
 ],
 "metadata": {
  "kernelspec": {
   "display_name": "base",
   "language": "python",
   "name": "python3"
  },
  "language_info": {
   "codemirror_mode": {
    "name": "ipython",
    "version": 3
   },
   "file_extension": ".py",
   "mimetype": "text/x-python",
   "name": "python",
   "nbconvert_exporter": "python",
   "pygments_lexer": "ipython3",
   "version": "3.12.7"
  }
 },
 "nbformat": 4,
 "nbformat_minor": 2
}
