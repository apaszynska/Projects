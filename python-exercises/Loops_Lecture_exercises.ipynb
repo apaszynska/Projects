{
 "cells": [
  {
   "cell_type": "code",
   "execution_count": 1,
   "metadata": {},
   "outputs": [
    {
     "name": "stdout",
     "output_type": "stream",
     "text": [
      "0\n",
      "1\n",
      "2\n",
      "3\n",
      "4\n",
      "5 is not less than 5\n"
     ]
    }
   ],
   "source": [
    "x = 0\n",
    "while x < 5:\n",
    "    print(x)\n",
    "    x += 1\n",
    "else:\n",
    "    print(f\"{x} is not less than 5\")"
   ]
  },
  {
   "cell_type": "code",
   "execution_count": 4,
   "metadata": {},
   "outputs": [
    {
     "name": "stdout",
     "output_type": "stream",
     "text": [
      "Color red is in the rainbow\n"
     ]
    }
   ],
   "source": [
    "rainbow = [\"red\", \"orange\"]\n",
    "\n",
    "my_colour = input(\"Type a color name: \")\n",
    "\n",
    "if my_colour not in rainbow:\n",
    "    print(\"Color not in the rainbow\")\n",
    "else:\n",
    "    print(f\"Color {my_colour} is in the rainbow\")\n"
   ]
  },
  {
   "cell_type": "code",
   "execution_count": 5,
   "metadata": {},
   "outputs": [
    {
     "name": "stdout",
     "output_type": "stream",
     "text": [
      "red is in the rainbow\n"
     ]
    }
   ],
   "source": [
    "rainbow = [\"red\", \"orange\"]\n",
    "\n",
    "my_colour = input(\"Type a color name: \")\n",
    "\n",
    "while my_colour in rainbow:\n",
    "    print(my_colour, \"is in the rainbow\")\n",
    "    break\n",
    "else:\n",
    "    print(f\"Color {my_colour} is not in the rainbow\")\n"
   ]
  },
  {
   "cell_type": "code",
   "execution_count": 35,
   "metadata": {},
   "outputs": [
    {
     "name": "stdout",
     "output_type": "stream",
     "text": [
      "9\n"
     ]
    }
   ],
   "source": [
    "s = \"GAGCCTACTAACGGGAT\"\n",
    "t = \"CATCGTAATGACGGCCI\"\n",
    "dh = 0\n",
    "\n",
    "for i in range(len(s)):\n",
    "    if s[i] == t[i]:\n",
    "        dh = dh +1\n",
    "print(dh)\n"
   ]
  }
 ],
 "metadata": {
  "kernelspec": {
   "display_name": "base",
   "language": "python",
   "name": "python3"
  },
  "language_info": {
   "codemirror_mode": {
    "name": "ipython",
    "version": 3
   },
   "file_extension": ".py",
   "mimetype": "text/x-python",
   "name": "python",
   "nbconvert_exporter": "python",
   "pygments_lexer": "ipython3",
   "version": "3.12.7"
  }
 },
 "nbformat": 4,
 "nbformat_minor": 2
}
