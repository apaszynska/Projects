{
 "cells": [
  {
   "cell_type": "markdown",
   "metadata": {},
   "source": [
    "### Loops"
   ]
  },
  {
   "cell_type": "markdown",
   "metadata": {},
   "source": [
    "Ex 1 \n",
    "\n",
    "In your file create a variable called my_name with your name as the value. Put your name inside string quotes, e.g., \"my name\". Then add a line of code to print the variable name."
   ]
  },
  {
   "cell_type": "code",
   "execution_count": 7,
   "metadata": {},
   "outputs": [
    {
     "name": "stdout",
     "output_type": "stream",
     "text": [
      "Ola\n"
     ]
    }
   ],
   "source": [
    "my_name = \"Ola\"\n",
    "print(my_name)"
   ]
  },
  {
   "cell_type": "markdown",
   "metadata": {},
   "source": [
    "Ex 2 \n",
    "\n",
    "Create a variable called age with a number that is your age. Do not use string quotes for numbers."
   ]
  },
  {
   "cell_type": "code",
   "execution_count": 8,
   "metadata": {},
   "outputs": [
    {
     "name": "stdout",
     "output_type": "stream",
     "text": [
      "30\n"
     ]
    }
   ],
   "source": [
    "age = 30\n",
    "print(age)"
   ]
  },
  {
   "cell_type": "markdown",
   "metadata": {},
   "source": [
    "Ex 3 \n",
    "\n",
    "Create a variable called julia_age with the value 32. Create another variable called age_diff and set it to an expression that calculates your age minus Julia's age. Print your age and the value of age_diff. If you are younger than Julia, age_diff should be a negative number.\n"
   ]
  },
  {
   "cell_type": "code",
   "execution_count": 9,
   "metadata": {},
   "outputs": [
    {
     "name": "stdout",
     "output_type": "stream",
     "text": [
      "-2\n"
     ]
    }
   ],
   "source": [
    "julia_age = 32\n",
    "age_diff = 30 - julia_age\n",
    "print(age_diff)"
   ]
  },
  {
   "cell_type": "markdown",
   "metadata": {},
   "source": [
    "Ex 4\n",
    "\n",
    "Write a conditional that compares the variable holding your age with the number 21. It should print either \"You are older than 21\" or \"You are not older than 21\", appropriately, depending on your age. Save your file and run the cell. Make sure you see the correct message. Try changing your age in the file to make sure the other message prints when it should."
   ]
  },
  {
   "cell_type": "code",
   "execution_count": 13,
   "metadata": {},
   "outputs": [
    {
     "name": "stdout",
     "output_type": "stream",
     "text": [
      "You are not older than 21\n"
     ]
    }
   ],
   "source": [
    "my_age = 20\n",
    "if 21 > my_age:\n",
    "    print(\"You are not older than 21\")\n",
    "else:\n",
    "    print(\"You are older than 21\")"
   ]
  },
  {
   "cell_type": "markdown",
   "metadata": {},
   "source": [
    "Ex 5\n",
    "\n",
    "Write a conditional that compares your age with Julia's age. This conditional will need to test if you are older, younger, or the same age, and print, appropriately, either \"Julia is older than you\", \"Julia is younger than you\", or \"You are the same age as Julia\"."
   ]
  },
  {
   "cell_type": "code",
   "execution_count": 20,
   "metadata": {},
   "outputs": [
    {
     "name": "stdout",
     "output_type": "stream",
     "text": [
      "Julia is the same age as me\n"
     ]
    }
   ],
   "source": [
    "my_age = 32\n",
    "if julia_age > my_age:\n",
    "    print(\"Julia is older than me\")\n",
    "elif julia_age < my_age:\n",
    "    print(\"Julia is younger than me\")\n",
    "else:\n",
    "    print(\"Julia is the same age as me\")"
   ]
  }
 ],
 "metadata": {
  "kernelspec": {
   "display_name": "base",
   "language": "python",
   "name": "python3"
  },
  "language_info": {
   "codemirror_mode": {
    "name": "ipython",
    "version": 3
   },
   "file_extension": ".py",
   "mimetype": "text/x-python",
   "name": "python",
   "nbconvert_exporter": "python",
   "pygments_lexer": "ipython3",
   "version": "3.12.7"
  }
 },
 "nbformat": 4,
 "nbformat_minor": 2
}
