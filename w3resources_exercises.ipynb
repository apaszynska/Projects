{
 "cells": [
  {
   "cell_type": "markdown",
   "metadata": {},
   "source": [
    "### Exercise 1\n",
    "\n",
    "Write a Python program to find those numbers which are divisible by 7 and multiples of 5, between 1500 and 2700 (both included)."
   ]
  },
  {
   "cell_type": "code",
   "execution_count": null,
   "metadata": {},
   "outputs": [],
   "source": [
    "numbers =list(range(1500,2701))\n",
    "\n",
    "for number in numbers:\n",
    "    if number%7 == 0 and number%5 == 0:\n",
    "        print(number)\n"
   ]
  },
  {
   "cell_type": "code",
   "execution_count": 9,
   "metadata": {},
   "outputs": [
    {
     "name": "stdout",
     "output_type": "stream",
     "text": [
      "[1505, 1540, 1575, 1610, 1645, 1680, 1715, 1750, 1785, 1820, 1855, 1890, 1925, 1960, 1995, 2030, 2065, 2100, 2135, 2170, 2205, 2240, 2275, 2310, 2345, 2380, 2415, 2450, 2485, 2520, 2555, 2590, 2625, 2660, 2695]\n"
     ]
    }
   ],
   "source": [
    "pusta = []\n",
    "\n",
    "for number in numbers:\n",
    "    if number%7 == 0 and number%5 == 0:\n",
    "        pusta.append(number)\n",
    "print(pusta)\n"
   ]
  },
  {
   "cell_type": "markdown",
   "metadata": {},
   "source": [
    "### Exercise 2\n",
    "\n",
    "Write a Python program to convert temperatures to and from Celsius and Fahrenheit.\n",
    "\n",
    "[ Formula : c/5 = f-32/9 [ where c = temperature in celsius and f = temperature in fahrenheit ]\n",
    "Expected Output :\n",
    "60°C is 140 in Fahrenheit\n",
    "45°F is 7 in Celsius"
   ]
  },
  {
   "cell_type": "code",
   "execution_count": 24,
   "metadata": {},
   "outputs": [
    {
     "name": "stdout",
     "output_type": "stream",
     "text": [
      "45F jest równe 7C\n"
     ]
    }
   ],
   "source": [
    "\n",
    "\n",
    "\n",
    "temp = input(\"Podaj temperaturę jaką chcesz przekonwertować: \")\n",
    "if temp[-1] == \"F\":\n",
    "    fheit = int(temp[:-1])\n",
    "    cel = int(((fheit-32)/9)*5)\n",
    "    print(f\"{fheit}F jest równe {cel}C\")\n",
    "else:\n",
    "    cel = int(temp[:-1])\n",
    "    fheit = int(((cel/5)*9) + 32)\n",
    "    print(f\"{cel}C jest równe {fheit}F\")\n",
    "\n",
    "\n"
   ]
  },
  {
   "cell_type": "markdown",
   "metadata": {},
   "source": [
    "### Exercise 3\n",
    "\n",
    "Write a Python program to guess a number between 1 and 9.\n",
    "\n",
    "Note : User is prompted to enter a guess.\n",
    "If the user guesses wrong then the prompt appears again until the guess is correct, on successful guess, user will get a \"Well guessed!\" message, and the program will exit."
   ]
  },
  {
   "cell_type": "code",
   "execution_count": 54,
   "metadata": {},
   "outputs": [
    {
     "name": "stdout",
     "output_type": "stream",
     "text": [
      "Try again\n",
      "Try again\n",
      "Try again\n",
      "Try again\n",
      "Number out of range\n",
      "Well guessed\n"
     ]
    }
   ],
   "source": [
    "while True:\n",
    "    guess = input(\"Guess a number from 1 to 9: \")\n",
    "    guessint = int(guess)\n",
    "    if guessint > 9 or guessint < 1:\n",
    "        print(\"Number out of range\")\n",
    "        continue\n",
    "\n",
    "    if guessint == 5:\n",
    "        print(\"Well guessed\")\n",
    "        break   \n",
    "    else:\n",
    "        print(\"Try again\")"
   ]
  },
  {
   "cell_type": "markdown",
   "metadata": {},
   "source": [
    "### Exercise 4\n",
    "\n",
    "Write a Python program to construct the following pattern, using a nested for loop."
   ]
  },
  {
   "cell_type": "code",
   "execution_count": 98,
   "metadata": {},
   "outputs": [
    {
     "name": "stdout",
     "output_type": "stream",
     "text": [
      "* \n",
      "* * \n",
      "* * * \n",
      "* * * * \n",
      "* * * * * \n",
      "* * * * \n",
      "* * * \n",
      "* * \n",
      "* \n"
     ]
    }
   ],
   "source": [
    "n = 5\n",
    "for i in range(n):     # dla każdego n =(0:4), j dla x= 0 = puste, bo range(0) = nic, j ( i=1, czyli range(1) )_--> jedna gwiazdka, j(i=2) 2 gwiazdki etc...\n",
    "    for j in range(i):\n",
    "        print(\"* \", end=\"\") #end default to \\n (nowa linia)\n",
    "    print(\"* \") \n",
    "\n",
    "for i in range(n-1, 0, -1):\n",
    "    for j in range(i):\n",
    "        print(\"* \", end=\"\")\n",
    "    print(\"\")\n",
    "\n",
    "\n",
    "\n",
    "\n"
   ]
  },
  {
   "cell_type": "markdown",
   "metadata": {},
   "source": [
    "### Ex 5\n",
    "\n",
    "Write a Python program that accepts a word from the user and reverses it."
   ]
  },
  {
   "cell_type": "code",
   "execution_count": 7,
   "metadata": {},
   "outputs": [
    {
     "name": "stdout",
     "output_type": "stream",
     "text": [
      "sdrow\n"
     ]
    }
   ],
   "source": [
    "def rev_word():\n",
    "    \n",
    "    word = input(\"Write a word: \")\n",
    "    rev = word[::-1]\n",
    "    print(rev)\n",
    "\n",
    "rev_word()\n"
   ]
  },
  {
   "cell_type": "code",
   "execution_count": 15,
   "metadata": {},
   "outputs": [
    {
     "name": "stdout",
     "output_type": "stream",
     "text": [
      "yeh\n"
     ]
    }
   ],
   "source": [
    "def rev_words():\n",
    "\n",
    "    word = input(\"Write a word: \")\n",
    "    rev = \"\"\n",
    "\n",
    "    for w in word:\n",
    "        rev = w + rev\n",
    "    print(rev)\n",
    "\n",
    "rev_words()\n",
    "\n"
   ]
  },
  {
   "cell_type": "markdown",
   "metadata": {},
   "source": [
    "### Ex 6\n",
    "\n",
    "Write a Python program to count the number of even and odd numbers in a series of numbers\n",
    "\n",
    "Sample numbers : numbers = (1, 2, 3, 4, 5, 6, 7, 8, 9) \n",
    "Expected Output :\n",
    "Number of even numbers : 5\n",
    "Number of odd numbers : 4"
   ]
  },
  {
   "cell_type": "code",
   "execution_count": 20,
   "metadata": {},
   "outputs": [
    {
     "name": "stdout",
     "output_type": "stream",
     "text": [
      "Number of even numbers in a list: 3  [2, 4, 6]\n",
      "Number of odd numbers in a list: 4  [1, 3, 5, 7]\n"
     ]
    }
   ],
   "source": [
    "def how_many(numbers):\n",
    "    even = []\n",
    "    odd = []\n",
    "    count_even = 0\n",
    "    count_odd = 0\n",
    "    \n",
    "    for number in numbers:\n",
    "        if number%2 == 0:\n",
    "            even.append(number)\n",
    "        else:\n",
    "            odd.append(number)\n",
    "    \n",
    "    for number in even:\n",
    "        count_even = count_even +1\n",
    "    for number in odd:\n",
    "        count_odd = count_odd + 1\n",
    "\n",
    "    print(f\"Number of even numbers in a list: {count_even}  {even}\")\n",
    "    print(f\"Number of odd numbers in a list: {count_odd}  {odd}\")\n",
    "\n",
    "how_many([1,2,3,4,5,6,7])\n"
   ]
  },
  {
   "cell_type": "markdown",
   "metadata": {},
   "source": [
    "### Ex 7\n",
    "\n",
    "Write a Python program that prints each item and its corresponding type from the following list.\n",
    "Sample List : datalist = [1452, 11.23, 1+2j, True, 'w3resource', (0, -1), [5, 12], {\"class\":'V', \"section\":'A'}]"
   ]
  },
  {
   "cell_type": "code",
   "execution_count": 22,
   "metadata": {},
   "outputs": [
    {
     "name": "stdout",
     "output_type": "stream",
     "text": [
      "Type of 1452 is: type(data)\n",
      "Type of 11.23 is: type(data)\n",
      "Type of (1+2j) is: type(data)\n",
      "Type of True is: type(data)\n",
      "Type of w3resource is: type(data)\n",
      "Type of (0, -1) is: type(data)\n",
      "Type of [5, 12] is: type(data)\n",
      "Type of {'class': 'V', 'section': 'A'} is: type(data)\n"
     ]
    }
   ],
   "source": [
    "def corresponding_type():\n",
    "    datalist = [1452, 11.23, 1+2j, True, 'w3resource', (0, -1), [5, 12], {\"class\":'V', \"section\":'A'}]\n",
    "\n",
    "    for data in datalist:\n",
    "        print(f\"Type of {data} is: type(data)\")\n",
    "\n",
    "corresponding_type()\n"
   ]
  },
  {
   "cell_type": "markdown",
   "metadata": {},
   "source": [
    "### Ex 8\n",
    "\n",
    "Write a Python program that prints all the numbers from 0 to 6 except 3 and 6.\n",
    "Note : Use 'continue' statement.\n",
    "Expected Output : 0 1 2 4 5\n",
    "\n"
   ]
  },
  {
   "cell_type": "code",
   "execution_count": 27,
   "metadata": {},
   "outputs": [
    {
     "name": "stdout",
     "output_type": "stream",
     "text": [
      "[0, 1, 2, 4, 5]\n"
     ]
    }
   ],
   "source": [
    "def almost_all():\n",
    "    lista = range(6)\n",
    "    nowa = []\n",
    "    for i in lista:\n",
    "        if i == 3 or i == 6:\n",
    "            continue\n",
    "        else:\n",
    "            nowa.append(i)\n",
    "    print(nowa)\n",
    "almost_all()\n",
    "    \n"
   ]
  },
  {
   "cell_type": "markdown",
   "metadata": {},
   "source": [
    "### Ex 9\n",
    "\n",
    "Write a Python program to get the Fibonacci series between 0 and 50.\n",
    "\n",
    "Note : The Fibonacci Sequence is the series of numbers :\n",
    "0, 1, 1, 2, 3, 5, 8, 13, 21, ....\n",
    "Every next number is found by adding up the two numbers before it.\n",
    "Expected Output : 1 1 2 3 5 8 13 21 34"
   ]
  },
  {
   "cell_type": "code",
   "execution_count": 30,
   "metadata": {},
   "outputs": [
    {
     "name": "stdout",
     "output_type": "stream",
     "text": [
      "[0, 1, 1, 2, 3, 5, 8, 13, 21, 34, 55, 89, 144, 233, 377, 610, 987, 1597, 2584, 4181, 6765, 10946, 17711, 28657, 46368, 75025, 121393, 196418, 317811, 514229, 832040, 1346269, 2178309, 3524578, 5702887, 9227465, 14930352, 24157817, 39088169, 63245986, 102334155, 165580141, 267914296, 433494437, 701408733, 1134903170, 1836311903, 2971215073, 4807526976]\n"
     ]
    }
   ],
   "source": [
    "def fibonacci():\n",
    "    numbers = range(47)\n",
    "    fibo = [0, 1]\n",
    "    for number in numbers:\n",
    "        fibo.append(fibo[-1] + fibo[-2])\n",
    "    print(fibo)\n",
    "fibonacci()"
   ]
  },
  {
   "cell_type": "markdown",
   "metadata": {},
   "source": [
    "### Ex 10\n",
    "\n",
    "Write a Python program that iterates the integers from 1 to 50. \n",
    "\n",
    "For multiples of three print \"Fizz\" instead of the number and for multiples of five print \"Buzz\".\n",
    "\n",
    "For numbers that are multiples of three and five, print \"FizzBuzz\".\n",
    "Sample Output :\n",
    "fizzbuzz\n",
    "1\n",
    "2\n",
    "fizz\n",
    "4\n",
    "buzz"
   ]
  },
  {
   "cell_type": "code",
   "execution_count": 42,
   "metadata": {},
   "outputs": [
    {
     "name": "stdout",
     "output_type": "stream",
     "text": [
      "1\n",
      "2\n",
      "fizz\n",
      "4\n",
      "buzz\n",
      "fizz\n",
      "7\n",
      "8\n",
      "fizz\n",
      "buzz\n",
      "11\n",
      "fizz\n",
      "13\n",
      "14\n",
      "fizzbuzz\n",
      "16\n",
      "17\n",
      "fizz\n",
      "19\n",
      "buzz\n",
      "fizz\n",
      "22\n",
      "23\n",
      "fizz\n",
      "buzz\n",
      "26\n",
      "fizz\n",
      "28\n",
      "29\n",
      "fizzbuzz\n",
      "31\n",
      "32\n",
      "fizz\n",
      "34\n",
      "buzz\n",
      "fizz\n",
      "37\n",
      "38\n",
      "fizz\n",
      "buzz\n",
      "41\n",
      "fizz\n",
      "43\n",
      "44\n",
      "fizzbuzz\n",
      "46\n",
      "47\n",
      "fizz\n",
      "49\n",
      "buzz\n"
     ]
    }
   ],
   "source": [
    "def fizzy():\n",
    "    lista = range(1, 51)\n",
    "    for number in lista:\n",
    "        if number%5 == 0 and number%3 == 0:\n",
    "            print(\"fizzbuzz\")\n",
    "        elif number%3 == 0:\n",
    "            print(\"fizz\")\n",
    "        elif number%5 == 0:\n",
    "            print(\"buzz\")\n",
    "        else:\n",
    "            print(number)     \n",
    "fizzy()"
   ]
  },
  {
   "cell_type": "markdown",
   "metadata": {},
   "source": [
    "###EX 11\n",
    "\n",
    "Write a Python program that takes two digits m (row) and n (column) as input and generates a two-dimensional array.\n",
    "\n",
    " The element value in the i-th row and j-th column of the array should be i*j.\n",
    "Note :\n",
    "i = 0,1.., m-1\n",
    "j = 0,1, n-1.\n",
    "\n",
    "Test Data : Rows = 3, Columns = 4\n",
    "Expected Result : [[0, 0, 0, 0], [0, 1, 2, 3], [0, 2, 4, 6]]"
   ]
  },
  {
   "cell_type": "code",
   "execution_count": null,
   "metadata": {},
   "outputs": [],
   "source": [
    "def twodimens():\n",
    "    m = input(\"Number of rows: \")\n",
    "    n = input(\"Number of columns: \")\n",
    "    \n",
    "    t = [ [0]*3 for i in range(n)]"
   ]
  }
 ],
 "metadata": {
  "kernelspec": {
   "display_name": "base",
   "language": "python",
   "name": "python3"
  },
  "language_info": {
   "codemirror_mode": {
    "name": "ipython",
    "version": 3
   },
   "file_extension": ".py",
   "mimetype": "text/x-python",
   "name": "python",
   "nbconvert_exporter": "python",
   "pygments_lexer": "ipython3",
   "version": "3.12.7"
  }
 },
 "nbformat": 4,
 "nbformat_minor": 2
}
